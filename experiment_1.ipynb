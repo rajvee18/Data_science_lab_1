{
 "cells": [
  {
   "cell_type": "code",
   "execution_count": 14,
   "id": "9de00b41",
   "metadata": {},
   "outputs": [],
   "source": [
    "import numpy as np\n",
    "import matplotlib.pyplot as plt"
   ]
  },
  {
   "cell_type": "code",
   "execution_count": 15,
   "id": "c216ed41",
   "metadata": {},
   "outputs": [
    {
     "data": {
      "text/plain": [
       "array([52, 55, 40, 43, 43, 47, 49, 59, 58, 44, 46, 52, 41, 46, 47])"
      ]
     },
     "execution_count": 15,
     "metadata": {},
     "output_type": "execute_result"
    }
   ],
   "source": [
    "np.random.seed(0)\n",
    "num=np.random.randint(40,61,15)\n",
    "num"
   ]
  },
  {
   "cell_type": "code",
   "execution_count": 16,
   "id": "3f5fe4cf",
   "metadata": {},
   "outputs": [],
   "source": [
    "mean=np.mean(num)\n",
    "median=np.median(num)"
   ]
  },
  {
   "cell_type": "code",
   "execution_count": 17,
   "id": "52db5d36",
   "metadata": {},
   "outputs": [],
   "source": [
    "c_values = np.linspace(40,60,200)\n",
    "\n",
    "abs_loss = [np.mean(num-c) for c in c_values]\n",
    "sq_loss  = [np.mean((num-c)**2) for c in c_values]\n",
    "\n",
    "best_c_abs=c_values[np.argmin(abs_loss)]\n",
    "best_c_sq = c_values[np.argmin(sq_loss)]"
   ]
  },
  {
   "cell_type": "code",
   "execution_count": null,
   "id": "fb2adb2d",
   "metadata": {},
   "outputs": [
    {
     "data": {
      "text/plain": [
       "<function matplotlib.pyplot.figure(num: 'int | str | Figure | SubFigure | None' = None, figsize: 'ArrayLike | None' = None, dpi: 'float | None' = None, *, facecolor: 'ColorType | None' = None, edgecolor: 'ColorType | None' = None, frameon: 'bool' = True, FigureClass: 'type[Figure]' = <class 'matplotlib.figure.Figure'>, clear: 'bool' = False, **kwargs) -> 'Figure'>"
      ]
     },
     "execution_count": 18,
     "metadata": {},
     "output_type": "execute_result"
    }
   ],
   "source": [
    "plt.plot(c_val)\n"
   ]
  }
 ],
 "metadata": {
  "kernelspec": {
   "display_name": ".venv",
   "language": "python",
   "name": "python3"
  },
  "language_info": {
   "codemirror_mode": {
    "name": "ipython",
    "version": 3
   },
   "file_extension": ".py",
   "mimetype": "text/x-python",
   "name": "python",
   "nbconvert_exporter": "python",
   "pygments_lexer": "ipython3",
   "version": "3.13.7"
  }
 },
 "nbformat": 4,
 "nbformat_minor": 5
}
